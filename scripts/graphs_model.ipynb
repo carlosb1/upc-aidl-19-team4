{
 "cells": [
  {
   "cell_type": "code",
   "execution_count": 15,
   "metadata": {},
   "outputs": [],
   "source": [
    "import matplotlib.pyplot as plt\n",
    "plt.style.use('classic')\n",
    "%matplotlib inline\n",
    "import numpy as np\n",
    "import pandas as pd"
   ]
  },
  {
   "cell_type": "code",
   "execution_count": 16,
   "metadata": {},
   "outputs": [],
   "source": [
    "import seaborn as sns"
   ]
  },
  {
   "cell_type": "code",
   "execution_count": 17,
   "metadata": {},
   "outputs": [],
   "source": [
    "data_model = pd.read_csv('./value_models.csv', delimiter=',')"
   ]
  },
  {
   "cell_type": "code",
   "execution_count": 18,
   "metadata": {},
   "outputs": [
    {
     "data": {
      "text/html": [
       "<div>\n",
       "<style scoped>\n",
       "    .dataframe tbody tr th:only-of-type {\n",
       "        vertical-align: middle;\n",
       "    }\n",
       "\n",
       "    .dataframe tbody tr th {\n",
       "        vertical-align: top;\n",
       "    }\n",
       "\n",
       "    .dataframe thead th {\n",
       "        text-align: right;\n",
       "    }\n",
       "</style>\n",
       "<table border=\"1\" class=\"dataframe\">\n",
       "  <thead>\n",
       "    <tr style=\"text-align: right;\">\n",
       "      <th></th>\n",
       "      <th>Name</th>\n",
       "      <th>Number of parameters</th>\n",
       "      <th>Time (secs)</th>\n",
       "      <th>Top 1- Accuracy [%]</th>\n",
       "      <th>Dataset</th>\n",
       "    </tr>\n",
       "  </thead>\n",
       "  <tbody>\n",
       "    <tr>\n",
       "      <th>0</th>\n",
       "      <td>SSFD</td>\n",
       "      <td>57177366</td>\n",
       "      <td>0.600000</td>\n",
       "      <td>97.500000</td>\n",
       "      <td>FDDB</td>\n",
       "    </tr>\n",
       "    <tr>\n",
       "      <th>1</th>\n",
       "      <td>SSFD</td>\n",
       "      <td>57177366</td>\n",
       "      <td>1.510000</td>\n",
       "      <td>98.840000</td>\n",
       "      <td>WIDER</td>\n",
       "    </tr>\n",
       "    <tr>\n",
       "      <th>2</th>\n",
       "      <td>YOLO</td>\n",
       "      <td>61576342</td>\n",
       "      <td>1.250468</td>\n",
       "      <td>96.225200</td>\n",
       "      <td>FDDB</td>\n",
       "    </tr>\n",
       "    <tr>\n",
       "      <th>3</th>\n",
       "      <td>YOLO</td>\n",
       "      <td>61576342</td>\n",
       "      <td>1.253347</td>\n",
       "      <td>84.911314</td>\n",
       "      <td>WIDER</td>\n",
       "    </tr>\n",
       "    <tr>\n",
       "      <th>4</th>\n",
       "      <td>Tiny Faces</td>\n",
       "      <td>28060490</td>\n",
       "      <td>6.342928</td>\n",
       "      <td>93.710897</td>\n",
       "      <td>FDDB</td>\n",
       "    </tr>\n",
       "    <tr>\n",
       "      <th>5</th>\n",
       "      <td>Tiny Faces</td>\n",
       "      <td>28060490</td>\n",
       "      <td>27.841447</td>\n",
       "      <td>86.129412</td>\n",
       "      <td>WIDER</td>\n",
       "    </tr>\n",
       "  </tbody>\n",
       "</table>\n",
       "</div>"
      ],
      "text/plain": [
       "         Name  Number of parameters  Time (secs)  Top 1- Accuracy [%] Dataset\n",
       "0        SSFD              57177366     0.600000            97.500000    FDDB\n",
       "1        SSFD              57177366     1.510000            98.840000   WIDER\n",
       "2        YOLO              61576342     1.250468            96.225200    FDDB\n",
       "3        YOLO              61576342     1.253347            84.911314   WIDER\n",
       "4  Tiny Faces              28060490     6.342928            93.710897    FDDB\n",
       "5  Tiny Faces              28060490    27.841447            86.129412   WIDER"
      ]
     },
     "execution_count": 18,
     "metadata": {},
     "output_type": "execute_result"
    }
   ],
   "source": [
    "data_model"
   ]
  },
  {
   "cell_type": "code",
   "execution_count": 22,
   "metadata": {},
   "outputs": [
    {
     "data": {
      "text/plain": [
       "<seaborn.axisgrid.FacetGrid at 0x7f4c778fcdd8>"
      ]
     },
     "execution_count": 22,
     "metadata": {},
     "output_type": "execute_result"
    },
    {
     "data": {
      "image/png": "[encoded data removed]",
      "text/plain": [
       "<Figure size 612.95x432 with 1 Axes>"
      ]
     },
     "metadata": {},
     "output_type": "display_data"
    }
   ],
   "source": [
    "sns.set_style(style=\"white\")\n",
    "sns.relplot(x=\"Time (secs)\", y=\"Top 1- Accuracy [%]\", hue=\"Name\",size=\"Number of parameters\", sizes=(40, 400), alpha=.5, palette=\"muted\", height=6, data=data_model[2:])"
   ]
  },
  {
   "cell_type": "code",
   "execution_count": null,
   "metadata": {},
   "outputs": [],
   "source": []
  }
 ],
 "metadata": {
  "kernelspec": {
   "display_name": "Python 3",
   "language": "python",
   "name": "python3"
  },
  "language_info": {
   "codemirror_mode": {
    "name": "ipython",
    "version": 3
   },
   "file_extension": ".py",
   "mimetype": "text/x-python",
   "name": "python",
   "nbconvert_exporter": "python",
   "pygments_lexer": "ipython3",
   "version": "3.7.2"
  }
 },
 "nbformat": 4,
 "nbformat_minor": 2
}
