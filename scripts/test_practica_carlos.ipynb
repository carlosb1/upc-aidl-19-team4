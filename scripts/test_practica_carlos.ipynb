{
  "nbformat": 4,
  "nbformat_minor": 0,
  "metadata": {
    "colab": {
      "name": "test_practica_carlos.ipynb",
      "version": "0.3.2",
      "provenance": [],
      "collapsed_sections": []
    },
    "kernelspec": {
      "name": "python3",
      "display_name": "Python 3"
    },
    "accelerator": "GPU"
  },
  "cells": [
    {
      "cell_type": "code",
      "metadata": {
        "id": "5WIa06Hqp43K",
        "colab_type": "code",
        "colab": {}
      },
      "source": [
        "SIZE =  (224, 244)\n",
        "ROOT_PATH = '/content/drive/'"
      ],
      "execution_count": 0,
      "outputs": []
    },
    {
      "cell_type": "code",
      "metadata": {
        "id": "Jop3PCjNj9NY",
        "colab_type": "code",
        "outputId": "cb71eeba-5372-481f-fa2e-107592542ad4",
        "colab": {
          "base_uri": "https://localhost:8080/",
          "height": 34
        }
      },
      "source": [
        "# if you wanna mount your own google drive\n",
        "from google.colab import drive\n",
        "drive.mount('/content/drive') \n"
      ],
      "execution_count": 0,
      "outputs": [
        {
          "output_type": "stream",
          "text": [
            "Drive already mounted at /content/drive; to attempt to forcibly remount, call drive.mount(\"/content/drive\", force_remount=True).\n"
          ],
          "name": "stdout"
        }
      ]
    },
    {
      "cell_type": "code",
      "metadata": {
        "id": "Di2ZiKm-kEk-",
        "colab_type": "code",
        "outputId": "f57c4faa-0d88-493b-e9d2-a85950b3b1ce",
        "colab": {
          "base_uri": "https://localhost:8080/",
          "height": 34
        }
      },
      "source": [
        "%cd /content/drive/My\\ Drive/practica_aidl/pipeline/recognition"
      ],
      "execution_count": 0,
      "outputs": [
        {
          "output_type": "stream",
          "text": [
            "/content/drive/My Drive/practica_aidl/pipeline/recognition\n"
          ],
          "name": "stdout"
        }
      ]
    },
    {
      "cell_type": "code",
      "metadata": {
        "id": "_shVrKE6lD1i",
        "colab_type": "code",
        "outputId": "63dff360-eec3-4767-bd3e-9ce90e36a6e5",
        "colab": {
          "base_uri": "https://localhost:8080/",
          "height": 69
        }
      },
      "source": [
        "!ls  \"/content/drive/My Drive/practica_aidl/backups\""
      ],
      "execution_count": 0,
      "outputs": [
        {
          "output_type": "stream",
          "text": [
            "BEST_checkpoint_vggsiamese_1.pth.tar  folds.good.tar.gz\t\tWIDER_test.zip\n",
            "cfp-dataset-changed-directory.tar.gz  joined_fddb_datasets.zip\tWIDER_train.zip\n",
            "examples\t\t\t      wider_face_split.zip\tWIDER_val.zip\n"
          ],
          "name": "stdout"
        }
      ]
    },
    {
      "cell_type": "code",
      "metadata": {
        "id": "ECiQoB4JkdIn",
        "colab_type": "code",
        "colab": {}
      },
      "source": [
        "from models import *\n",
        "from torchvision import transforms\n",
        "from PIL import Image\n",
        "import torch"
      ],
      "execution_count": 0,
      "outputs": []
    },
    {
      "cell_type": "code",
      "metadata": {
        "id": "j_32sDwSpRar",
        "colab_type": "code",
        "colab": {}
      },
      "source": [
        "\n",
        "trans = transforms.Compose([transforms.Resize(SIZE), transforms.ToTensor()])\n",
        "path_image_1 = ROOT_PATH + 'My Drive/practica_aidl/backups/examples/1.jpg'\n",
        "device = torch.device('cuda:0' if torch.cuda.is_available() else 'cpu')\n",
        "cos = nn.CosineSimilarity(dim=1, eps=1e-6)\n",
        "\n"
      ],
      "execution_count": 0,
      "outputs": []
    },
    {
      "cell_type": "code",
      "metadata": {
        "id": "y1SujjqBrEd5",
        "colab_type": "code",
        "colab": {}
      },
      "source": [
        "image = Image.open(path_image_1).convert('RGB')\n",
        "image = trans(image)"
      ],
      "execution_count": 0,
      "outputs": []
    },
    {
      "cell_type": "code",
      "metadata": {
        "id": "LHhICr-0kztJ",
        "colab_type": "code",
        "outputId": "aac7af28-f335-4201-db09-c5b8a1a1edd7",
        "colab": {
          "base_uri": "https://localhost:8080/",
          "height": 416
        }
      },
      "source": [
        "image"
      ],
      "execution_count": 0,
      "outputs": [
        {
          "output_type": "execute_result",
          "data": {
            "text/plain": [
              "tensor([[[0.9686, 0.9686, 0.9686,  ..., 0.1176, 0.1137, 0.1137],\n",
              "         [0.9686, 0.9686, 0.9686,  ..., 0.1137, 0.1137, 0.1137],\n",
              "         [0.9686, 0.9686, 0.9686,  ..., 0.1137, 0.1137, 0.1137],\n",
              "         ...,\n",
              "         [0.7294, 0.7569, 0.7961,  ..., 0.6706, 0.6902, 0.7059],\n",
              "         [0.7059, 0.7412, 0.7882,  ..., 0.7176, 0.7490, 0.7765],\n",
              "         [0.6863, 0.7216, 0.7647,  ..., 0.6980, 0.7569, 0.8000]],\n",
              "\n",
              "        [[0.9608, 0.9608, 0.9608,  ..., 0.1137, 0.1098, 0.1098],\n",
              "         [0.9608, 0.9608, 0.9608,  ..., 0.1098, 0.1098, 0.1098],\n",
              "         [0.9608, 0.9608, 0.9608,  ..., 0.1098, 0.1098, 0.1098],\n",
              "         ...,\n",
              "         [0.7216, 0.7490, 0.7882,  ..., 0.6627, 0.6824, 0.6980],\n",
              "         [0.6980, 0.7333, 0.7804,  ..., 0.7098, 0.7412, 0.7686],\n",
              "         [0.6784, 0.7137, 0.7569,  ..., 0.6902, 0.7490, 0.7922]],\n",
              "\n",
              "        [[0.9804, 0.9804, 0.9804,  ..., 0.1373, 0.1333, 0.1333],\n",
              "         [0.9804, 0.9804, 0.9804,  ..., 0.1333, 0.1333, 0.1333],\n",
              "         [0.9804, 0.9804, 0.9804,  ..., 0.1333, 0.1333, 0.1333],\n",
              "         ...,\n",
              "         [0.7647, 0.7922, 0.8314,  ..., 0.7059, 0.7255, 0.7412],\n",
              "         [0.7412, 0.7765, 0.8235,  ..., 0.7529, 0.7843, 0.8118],\n",
              "         [0.7216, 0.7569, 0.8000,  ..., 0.7333, 0.7922, 0.8353]]])"
            ]
          },
          "metadata": {
            "tags": []
          },
          "execution_count": 8
        }
      ]
    },
    {
      "cell_type": "code",
      "metadata": {
        "id": "Hu1SULC7resb",
        "colab_type": "code",
        "outputId": "b682ee3f-2099-4535-c94c-bfe231462cc7",
        "colab": {
          "base_uri": "https://localhost:8080/",
          "height": 72
        }
      },
      "source": [
        "info = torch.load(ROOT_PATH + 'My Drive/practica_aidl/backups/BEST_checkpoint_vggsiamese_1.pth.tar')\n",
        "model = info['model']"
      ],
      "execution_count": 0,
      "outputs": [
        {
          "output_type": "stream",
          "text": [
            "/usr/local/lib/python3.6/dist-packages/torch/serialization.py:454: SourceChangeWarning: source code of class 'models.VGGSiameseNet' has changed. you can retrieve the original source code by accessing the object's source attribute or set `torch.nn.Module.dump_patches = True` and use the patch tool to revert the changes.\n",
            "  warnings.warn(msg, SourceChangeWarning)\n"
          ],
          "name": "stderr"
        }
      ]
    },
    {
      "cell_type": "code",
      "metadata": {
        "id": "HzRQs7XhlN6Z",
        "colab_type": "code",
        "colab": {}
      },
      "source": [
        "query = model.extract_feature(image[None, ...].to(device))\n",
        "query2 = model.extract_feature(image[None, ...].to(device))"
      ],
      "execution_count": 0,
      "outputs": []
    },
    {
      "cell_type": "code",
      "metadata": {
        "id": "iBbL_0r1rWLu",
        "colab_type": "code",
        "outputId": "a3e140c0-f202-40f5-dd1e-944cdb0f3ea7",
        "colab": {
          "base_uri": "https://localhost:8080/",
          "height": 34
        }
      },
      "source": [
        " cos(query, query2)"
      ],
      "execution_count": 0,
      "outputs": [
        {
          "output_type": "execute_result",
          "data": {
            "text/plain": [
              "tensor([1.], device='cuda:0', grad_fn=<DivBackward0>)"
            ]
          },
          "metadata": {
            "tags": []
          },
          "execution_count": 11
        }
      ]
    },
    {
      "cell_type": "code",
      "metadata": {
        "id": "FKORRs-LAHnN",
        "colab_type": "code",
        "colab": {}
      },
      "source": [
        "feats= None\n",
        "labels = []\n",
        "path_dataset = ROOT_PATH + 'My Drive/practica_aidl/backups/examples/test_datasets'"
      ],
      "execution_count": 0,
      "outputs": []
    },
    {
      "cell_type": "code",
      "metadata": {
        "id": "afPOQpqa_Mms",
        "colab_type": "code",
        "colab": {}
      },
      "source": [
        "import glob\n",
        "paths = glob.glob(path_dataset+\"/*.jpg\")"
      ],
      "execution_count": 0,
      "outputs": []
    },
    {
      "cell_type": "code",
      "metadata": {
        "id": "5LGpeHQ8CCMg",
        "colab_type": "code",
        "colab": {}
      },
      "source": [
        "for path in paths:\n",
        "  image = Image.open(path).convert('RGB')\n",
        "  image = trans(image)\n",
        "  feat = model.extract_feature(image[None, ...].to(device))\n",
        "  if feats is None:\n",
        "    feats = feat\n",
        "  else:\n",
        "    feats = torch.cat((feats, feat), dim=0)\n"
      ],
      "execution_count": 0,
      "outputs": []
    },
    {
      "cell_type": "code",
      "metadata": {
        "id": "r_v8-C9XCgKd",
        "colab_type": "code",
        "colab": {}
      },
      "source": [
        "dist = cos(query, feats)"
      ],
      "execution_count": 0,
      "outputs": []
    },
    {
      "cell_type": "code",
      "metadata": {
        "id": "NEdLurspChsW",
        "colab_type": "code",
        "outputId": "35c2ce03-d691-4635-f3be-edcbb952f105",
        "colab": {
          "base_uri": "https://localhost:8080/",
          "height": 173
        }
      },
      "source": [
        "index_sorted = torch.argsort(dist)\n",
        "top_10 = reversed(index_sorted[:10])\n",
        "\n",
        "top = 0\n",
        "for i in top_10:\n",
        "    print(str(top) + \" - \" + str(i.item()) + \" - \" + str(paths[i]))\n",
        "    top += 1"
      ],
      "execution_count": 0,
      "outputs": [
        {
          "output_type": "stream",
          "text": [
            "0 - 1 - /content/drive/My Drive/practica_aidl/backups/examples/test_datasets/05.jpg\n",
            "1 - 2 - /content/drive/My Drive/practica_aidl/backups/examples/test_datasets/03 (1).jpg\n",
            "2 - 0 - /content/drive/My Drive/practica_aidl/backups/examples/test_datasets/03b.jpg\n",
            "3 - 5 - /content/drive/My Drive/practica_aidl/backups/examples/test_datasets/07.jpg\n",
            "4 - 8 - /content/drive/My Drive/practica_aidl/backups/examples/test_datasets/02.jpg\n",
            "5 - 3 - /content/drive/My Drive/practica_aidl/backups/examples/test_datasets/09.jpg\n",
            "6 - 6 - /content/drive/My Drive/practica_aidl/backups/examples/test_datasets/01.jpg\n",
            "7 - 4 - /content/drive/My Drive/practica_aidl/backups/examples/test_datasets/08.jpg\n",
            "8 - 7 - /content/drive/My Drive/practica_aidl/backups/examples/test_datasets/10.jpg\n"
          ],
          "name": "stdout"
        }
      ]
    },
    {
      "cell_type": "code",
      "metadata": {
        "id": "In9ImfwuD3Eb",
        "colab_type": "code",
        "colab": {}
      },
      "source": [
        "image2 = Image.open(paths[7]).convert('RGB')\n",
        "image2 = trans(image2)\n",
        "query3 = model.extract_feature(image2[None, ...].to(device))"
      ],
      "execution_count": 0,
      "outputs": []
    },
    {
      "cell_type": "code",
      "metadata": {
        "id": "opbFpnJJE62I",
        "colab_type": "code",
        "colab": {}
      },
      "source": [
        "dist2 = cos(query3, feats)"
      ],
      "execution_count": 0,
      "outputs": []
    },
    {
      "cell_type": "code",
      "metadata": {
        "id": "Sy7voZMxF-EO",
        "colab_type": "code",
        "outputId": "02deb96a-c969-4adb-9dc7-a21f13887778",
        "colab": {
          "base_uri": "https://localhost:8080/",
          "height": 191
        }
      },
      "source": [
        "print(\"to search: \"+paths[7])\n",
        "index_sorted = torch.argsort(dist2)\n",
        "top_10 = reversed(index_sorted[:10])\n",
        "top = 0\n",
        "for i in top_10:\n",
        "    print(str(top) + \" - \" + str(i.item()) + \" - \" + str(paths[i]))\n",
        "    top += 1"
      ],
      "execution_count": 0,
      "outputs": [
        {
          "output_type": "stream",
          "text": [
            "to search: /content/drive/My Drive/practica_aidl/backups/examples/test_datasets/10.jpg\n",
            "0 - 7 - /content/drive/My Drive/practica_aidl/backups/examples/test_datasets/10.jpg\n",
            "1 - 4 - /content/drive/My Drive/practica_aidl/backups/examples/test_datasets/08.jpg\n",
            "2 - 6 - /content/drive/My Drive/practica_aidl/backups/examples/test_datasets/01.jpg\n",
            "3 - 3 - /content/drive/My Drive/practica_aidl/backups/examples/test_datasets/09.jpg\n",
            "4 - 8 - /content/drive/My Drive/practica_aidl/backups/examples/test_datasets/02.jpg\n",
            "5 - 5 - /content/drive/My Drive/practica_aidl/backups/examples/test_datasets/07.jpg\n",
            "6 - 0 - /content/drive/My Drive/practica_aidl/backups/examples/test_datasets/03b.jpg\n",
            "7 - 1 - /content/drive/My Drive/practica_aidl/backups/examples/test_datasets/05.jpg\n",
            "8 - 2 - /content/drive/My Drive/practica_aidl/backups/examples/test_datasets/03 (1).jpg\n"
          ],
          "name": "stdout"
        }
      ]
    },
    {
      "cell_type": "code",
      "metadata": {
        "id": "57Gmx2OdGAyT",
        "colab_type": "code",
        "colab": {}
      },
      "source": [
        ""
      ],
      "execution_count": 0,
      "outputs": []
    }
  ]
}